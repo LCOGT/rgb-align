{
 "cells": [
  {
   "cell_type": "markdown",
   "metadata": {
    "colab_type": "text",
    "id": "view-in-github"
   },
   "source": [
    "<a href=\"https://colab.research.google.com/gist/zemogle/fa53f58455ac3cb00ea836c7f46915c4/colour-imaging-with-las-cumbres-observatory.ipynb\" target=\"_parent\"><img src=\"https://colab.research.google.com/assets/colab-badge.svg\" alt=\"Open In Colab\"/></a>"
   ]
  },
  {
   "cell_type": "markdown",
   "metadata": {
    "id": "Rg0EaDUQrsiE"
   },
   "source": [
    "\n",
    "\n",
    "## Code Imports\n",
    "You don't need to expand this section. You can just run the whole thing and it will import all the functions you need.\n",
    "\n"
   ]
  },
  {
   "cell_type": "code",
   "execution_count": 2,
   "metadata": {
    "colab": {
     "base_uri": "https://localhost:8080/"
    },
    "id": "6-nRxiE-xovA",
    "outputId": "cf71f7f1-a797-4185-e7d1-2653b6877873"
   },
   "outputs": [
    {
     "name": "stdout",
     "output_type": "stream",
     "text": [
      "Collecting fits_align\n",
      "  Downloading fits_align-0.4.3.tar.gz (24 kB)\n",
      "Requirement already satisfied: astropy in /usr/local/lib/python3.7/dist-packages (from fits_align) (4.3.1)\n",
      "Requirement already satisfied: numpy in /usr/local/lib/python3.7/dist-packages (from fits_align) (1.19.5)\n",
      "Requirement already satisfied: pillow in /usr/local/lib/python3.7/dist-packages (from fits_align) (7.1.2)\n",
      "Requirement already satisfied: importlib-metadata in /usr/local/lib/python3.7/dist-packages (from astropy->fits_align) (4.8.1)\n",
      "Requirement already satisfied: pyerfa>=1.7.3 in /usr/local/lib/python3.7/dist-packages (from astropy->fits_align) (2.0.0)\n",
      "Requirement already satisfied: zipp>=0.5 in /usr/local/lib/python3.7/dist-packages (from importlib-metadata->astropy->fits_align) (3.6.0)\n",
      "Requirement already satisfied: typing-extensions>=3.6.4 in /usr/local/lib/python3.7/dist-packages (from importlib-metadata->astropy->fits_align) (3.7.4.3)\n",
      "Building wheels for collected packages: fits-align\n",
      "  Building wheel for fits-align (setup.py) ... \u001b[?25l\u001b[?25hdone\n",
      "  Created wheel for fits-align: filename=fits_align-0.4.3-py3-none-any.whl size=29456 sha256=89d18366b143853d462099047879048daf9dd1bd6981b904170ca1a45538e8ac\n",
      "  Stored in directory: /root/.cache/pip/wheels/9c/6c/8b/a5d3d2253c370130d0a7ee1cfb3f66168f1c9ee618c0f10499\n",
      "Successfully built fits-align\n",
      "Installing collected packages: fits-align\n",
      "Successfully installed fits-align-0.4.3\n",
      "Collecting fits2image\n",
      "  Downloading fits2image-0.4.4-py3-none-any.whl (6.4 kB)\n",
      "Requirement already satisfied: Pillow in /usr/local/lib/python3.7/dist-packages (from fits2image) (7.1.2)\n",
      "Requirement already satisfied: numpy in /usr/local/lib/python3.7/dist-packages (from fits2image) (1.19.5)\n",
      "Requirement already satisfied: astropy in /usr/local/lib/python3.7/dist-packages (from fits2image) (4.3.1)\n",
      "Requirement already satisfied: pyerfa>=1.7.3 in /usr/local/lib/python3.7/dist-packages (from astropy->fits2image) (2.0.0)\n",
      "Requirement already satisfied: importlib-metadata in /usr/local/lib/python3.7/dist-packages (from astropy->fits2image) (4.8.1)\n",
      "Requirement already satisfied: typing-extensions>=3.6.4 in /usr/local/lib/python3.7/dist-packages (from importlib-metadata->astropy->fits2image) (3.7.4.3)\n",
      "Requirement already satisfied: zipp>=0.5 in /usr/local/lib/python3.7/dist-packages (from importlib-metadata->astropy->fits2image) (3.6.0)\n",
      "Installing collected packages: fits2image\n",
      "Successfully installed fits2image-0.4.4\n"
     ]
    }
   ],
   "source": [
    "!pip install fits_align\n",
    "!pip install fits2image\n",
    "from astropy.io import fits\n",
    "import numpy as np  \n",
    "from fits_align.ident import make_transforms\n",
    "from fits_align.align import affineremap\n",
    "from ipywidgets import widgets\n",
    "import requests\n",
    "from ipywidgets import interactive, interact, fixed\n",
    "import ipywidgets as widgets\n",
    "from PIL import Image as pimage\n",
    "from io import BytesIO\n",
    "from fits2image.scaling import stack_images, percentile_scale, recalculate_median\n",
    "from IPython.display import Image\n",
    "\n",
    "ARCHIVE_API = 'https://archive-api.lco.global/'\n",
    "THUMBNAIL_SIZE = (1000,1000)"
   ]
  },
  {
   "cell_type": "code",
   "execution_count": 3,
   "metadata": {
    "id": "H4cX4-h2xovH"
   },
   "outputs": [],
   "source": [
    "def rvb_frames(frames):\n",
    "\n",
    "    FILTERS = {\n",
    "        'red': ['R', 'rp','ip'],\n",
    "        'visual': ['V','rp'],\n",
    "        'blue': ['B','gp'],\n",
    "    }\n",
    "\n",
    "    selected_frames = []\n",
    "    for color in ['red', 'visual', 'blue']:\n",
    "        try:\n",
    "            selected_frames.append(\n",
    "                next(f for f in frames if f['FILTER'] in FILTERS[color])\n",
    "            )\n",
    "        except StopIteration:\n",
    "            print('Filters for colour not found')\n",
    "            return None\n",
    "    return selected_frames"
   ]
  },
  {
   "cell_type": "code",
   "execution_count": 4,
   "metadata": {
    "id": "3-CAEww8xovL"
   },
   "outputs": [],
   "source": [
    "def get_fits_data(url):\n",
    "    with fits.open(url) as hdul:\n",
    "        for hdu in hdul:\n",
    "            if len(np.shape(hdu)) == 2:\n",
    "                return hdu.data\n",
    "\n",
    "def display_img_array(imdata):\n",
    "    bio = BytesIO()\n",
    "    rgb_cube = np.dstack(imdata).astype(np.uint8)\n",
    "    im = pimage.fromarray(rgb_cube)\n",
    "    if im.mode != 'RGB':\n",
    "        im = im.convert('RGB')\n",
    "    im.thumbnail(THUMBNAIL_SIZE, pimage.ANTIALIAS)\n",
    "    im.save(bio, 'png')\n",
    "    display(Image(bio.getvalue(), format='png', retina=True))\n",
    "    return"
   ]
  },
  {
   "cell_type": "code",
   "execution_count": 5,
   "metadata": {
    "id": "nT-g2p37xovN"
   },
   "outputs": [],
   "source": [
    "def frames_for_requestnum(reqnum):\n",
    "    headers = {\n",
    "        'Authorization': token.value\n",
    "    }\n",
    "    frames = requests.get(\n",
    "        '{0}frames/?REQNUM={1}'.format(ARCHIVE_API, reqnum),\n",
    "        headers=headers\n",
    "    ).json()['results']\n",
    "    if any(f for f in frames if f['RLEVEL'] == 91):\n",
    "        rlevel = 91\n",
    "    elif any(f for f in frames if f['RLEVEL'] == 11):\n",
    "        rlevel = 11\n",
    "    else:\n",
    "        rlevel = 0\n",
    "    return [f for f in frames if f['RLEVEL'] == rlevel]"
   ]
  },
  {
   "cell_type": "code",
   "execution_count": 6,
   "metadata": {
    "id": "s4tJVQ10izmD"
   },
   "outputs": [],
   "source": [
    "def import_images(reqnum):\n",
    "    print('Starting download...',end=\"\\r\")\n",
    "    frames = frames_for_requestnum(reqnum)\n",
    "    sframes = rvb_frames(frames)\n",
    "    imdata = [] \n",
    "    \n",
    "    for f in sframes:\n",
    "        imdata.append(get_fits_data(f['url']))\n",
    "    print('Images Download complete',end=\"\\r\")\n",
    "    return imdata"
   ]
  },
  {
   "cell_type": "code",
   "execution_count": 7,
   "metadata": {
    "id": "kCG2-cUQxovQ"
   },
   "outputs": [],
   "source": [
    "def scale_data(percentile, imgarr, stretch=False):\n",
    "    print('Scaling', end=\"\\r\")\n",
    "    tmparr = []\n",
    "    for img in imgarr:\n",
    "        if stretch:\n",
    "          img = np.arcsinh(img)\n",
    "        tmparr.append(recalculate_median(img, percentile=percentile))\n",
    "    display_img_array(tmparr)\n",
    "    return percentile"
   ]
  },
  {
   "cell_type": "code",
   "execution_count": 7,
   "metadata": {
    "id": "iJFot3pnUBn8"
   },
   "outputs": [],
   "source": []
  },
  {
   "cell_type": "markdown",
   "metadata": {
    "id": "G9jF5A5MDLbI"
   },
   "source": [
    "# Colour Imager"
   ]
  },
  {
   "cell_type": "markdown",
   "metadata": {
    "id": "gSog4Sa7-yTF"
   },
   "source": [
    "Enter your API Key (a long string of numbers and letters) from the LCO [Observing Portal > Profile](https://observe.lco.global/accounts/profile/)"
   ]
  },
  {
   "cell_type": "code",
   "execution_count": 8,
   "metadata": {
    "colab": {
     "base_uri": "https://localhost:8080/",
     "height": 49,
     "referenced_widgets": [
      "68666a3141c149268a54f6d661a6cd6b",
      "9379b8729b4a41ae8a8b6e1c94b0f464",
      "a29c73db311d4055b66e7973f05be667"
     ]
    },
    "id": "Pe12nPMHxova",
    "outputId": "b297f3c6-2c8a-43b3-dcba-cfee40f59fc8"
   },
   "outputs": [
    {
     "data": {
      "application/vnd.jupyter.widget-view+json": {
       "model_id": "68666a3141c149268a54f6d661a6cd6b",
       "version_major": 2,
       "version_minor": 0
      },
      "text/plain": [
       "Text(value='')"
      ]
     },
     "metadata": {},
     "output_type": "display_data"
    }
   ],
   "source": [
    "token = widgets.Text()\n",
    "token"
   ]
  },
  {
   "cell_type": "markdown",
   "metadata": {
    "id": "CiJtzoLKzqIL"
   },
   "source": [
    "The next cell collects the data files and makes sure you have 3 images which can be used to make a colour image"
   ]
  },
  {
   "cell_type": "markdown",
   "metadata": {
    "id": "lDXdaw7__Adw"
   },
   "source": [
    "Enter the **sub-request number** of your request (not the request group number)"
   ]
  },
  {
   "cell_type": "code",
   "execution_count": null,
   "metadata": {
    "id": "hQW2GAkNxovh"
   },
   "outputs": [],
   "source": [
    "imdata = interactive(import_images, {'manual': True}, reqnum=widgets.IntText())\n",
    "display(imdata)\n"
   ]
  },
  {
   "cell_type": "code",
   "execution_count": null,
   "metadata": {
    "id": "sFVDKx5Dxov3"
   },
   "outputs": [],
   "source": [
    "percentile = widgets.Dropdown(\n",
    "    options=[85, 98, 99, 99.5, 99.95],\n",
    "    value=99.5,\n",
    "    description='Percentile:',\n",
    "    disabled=False,\n",
    ")\n",
    "stretch = widgets.ToggleButton(value=True, description='Stretch', tooltip='Stretch the range of brightness',icon='expand')\n",
    "ui = widgets.HBox([percentile, stretch])\n",
    "out = widgets.interactive_output(scale_data, {'percentile': percentile, 'imgarr': fixed(imdata.result), 'stretch': stretch})\n",
    "display(ui, out)"
   ]
  }
 ],
 "metadata": {
  "colab": {
   "collapsed_sections": [
    "Rg0EaDUQrsiE"
   ],
   "include_colab_link": true,
   "name": "Colour Imaging with Las Cumbres Observatory",
   "provenance": []
  },
  "kernelspec": {
   "display_name": "Python 3 (ipykernel)",
   "language": "python",
   "name": "python3"
  },
  "language_info": {
   "codemirror_mode": {
    "name": "ipython",
    "version": 3
   },
   "file_extension": ".py",
   "mimetype": "text/x-python",
   "name": "python",
   "nbconvert_exporter": "python",
   "pygments_lexer": "ipython3",
   "version": "3.8.11"
  },
  "widgets": {
   "application/vnd.jupyter.widget-state+json": {
    "68666a3141c149268a54f6d661a6cd6b": {
     "model_module": "@jupyter-widgets/controls",
     "model_module_version": "1.5.0",
     "model_name": "TextModel",
     "state": {
      "_dom_classes": [],
      "_model_module": "@jupyter-widgets/controls",
      "_model_module_version": "1.5.0",
      "_model_name": "TextModel",
      "_view_count": null,
      "_view_module": "@jupyter-widgets/controls",
      "_view_module_version": "1.5.0",
      "_view_name": "TextView",
      "continuous_update": true,
      "description": "",
      "description_tooltip": null,
      "disabled": false,
      "layout": "IPY_MODEL_a29c73db311d4055b66e7973f05be667",
      "placeholder": "​",
      "style": "IPY_MODEL_9379b8729b4a41ae8a8b6e1c94b0f464",
      "value": ""
     }
    },
    "9379b8729b4a41ae8a8b6e1c94b0f464": {
     "model_module": "@jupyter-widgets/controls",
     "model_module_version": "1.5.0",
     "model_name": "DescriptionStyleModel",
     "state": {
      "_model_module": "@jupyter-widgets/controls",
      "_model_module_version": "1.5.0",
      "_model_name": "DescriptionStyleModel",
      "_view_count": null,
      "_view_module": "@jupyter-widgets/base",
      "_view_module_version": "1.2.0",
      "_view_name": "StyleView",
      "description_width": ""
     }
    },
    "a29c73db311d4055b66e7973f05be667": {
     "model_module": "@jupyter-widgets/base",
     "model_module_version": "1.2.0",
     "model_name": "LayoutModel",
     "state": {
      "_model_module": "@jupyter-widgets/base",
      "_model_module_version": "1.2.0",
      "_model_name": "LayoutModel",
      "_view_count": null,
      "_view_module": "@jupyter-widgets/base",
      "_view_module_version": "1.2.0",
      "_view_name": "LayoutView",
      "align_content": null,
      "align_items": null,
      "align_self": null,
      "border": null,
      "bottom": null,
      "display": null,
      "flex": null,
      "flex_flow": null,
      "grid_area": null,
      "grid_auto_columns": null,
      "grid_auto_flow": null,
      "grid_auto_rows": null,
      "grid_column": null,
      "grid_gap": null,
      "grid_row": null,
      "grid_template_areas": null,
      "grid_template_columns": null,
      "grid_template_rows": null,
      "height": null,
      "justify_content": null,
      "justify_items": null,
      "left": null,
      "margin": null,
      "max_height": null,
      "max_width": null,
      "min_height": null,
      "min_width": null,
      "object_fit": null,
      "object_position": null,
      "order": null,
      "overflow": null,
      "overflow_x": null,
      "overflow_y": null,
      "padding": null,
      "right": null,
      "top": null,
      "visibility": null,
      "width": null
     }
    }
   }
  }
 },
 "nbformat": 4,
 "nbformat_minor": 1
}
